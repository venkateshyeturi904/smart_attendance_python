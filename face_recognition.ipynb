{
 "cells": [
  {
   "cell_type": "markdown",
   "metadata": {},
   "source": [
    "#### Importing required Libraries"
   ]
  },
  {
   "cell_type": "code",
   "execution_count": 3,
   "metadata": {},
   "outputs": [],
   "source": [
    "import cv2\n",
    "import os\n",
    "from mtcnn import MTCNN\n",
    "from IPython.display import display\n",
    "from PIL import Image\n",
    "from deepface import DeepFace\n",
    "import numpy as np\n",
    "import joblib\n",
    "import pandas as pd\n",
    "detector = MTCNN()"
   ]
  },
  {
   "cell_type": "markdown",
   "metadata": {},
   "source": [
    "## Data Preprocessing\n",
    "Preparing the data for training "
   ]
  },
  {
   "cell_type": "markdown",
   "metadata": {},
   "source": [
    "### Videos to images\n",
    "Given the path of folder containing each candidate face video recording, a seperate folder will be created in which each folder will contain all the images of a candidate cut from the respective video"
   ]
  },
  {
   "cell_type": "code",
   "execution_count": null,
   "metadata": {},
   "outputs": [],
   "source": [
    "num_of_frames_to_extract = 100\n",
    "data_path = r'C:\\Users\\Venkatesh Yeturi\\Desktop\\auto_attendance_python\\Data_2'"
   ]
  },
  {
   "cell_type": "code",
   "execution_count": 49,
   "metadata": {},
   "outputs": [],
   "source": [
    "def convert_videos_to_images(videos_folder_path, num_of_frames_to_extract):\n",
    "\n",
    "    data_folder_path = os.path.dirname(videos_folder_path)\n",
    "    faces_folder_path  = os.path.join(data_folder_path, 'images_dataset')\n",
    "\n",
    "    if not os.path.exists(faces_folder_path):\n",
    "        os.makedirs(faces_folder_path)\n",
    "\n",
    "    for candidate_video_file in os.listdir(videos_folder_path):\n",
    "\n",
    "        candidate_label = candidate_video_file[:-4]\n",
    "        candidate_images_folder_path = os.path.join(faces_folder_path, candidate_label)\n",
    "\n",
    "        if not os.path.exists(candidate_images_folder_path):\n",
    "            os.makedirs(candidate_images_folder_path)\n",
    "        \n",
    "        candidate_video_file_path = os.path.join(videos_folder_path, candidate_video_file)\n",
    "\n",
    "        cap = cv2.VideoCapture(candidate_video_file_path)\n",
    "\n",
    "        total_frames = int(cap.get(cv2.CAP_PROP_FRAME_COUNT))\n",
    "        step_size = total_frames // num_of_frames_to_extract\n",
    "        frame_count = 1\n",
    "\n",
    "        while frame_count <= num_of_frames_to_extract :\n",
    "            ret , frame = cap.read()\n",
    "            if not ret : \n",
    "                break\n",
    "            \n",
    "            frame_filename = os.path.join(candidate_images_folder_path, f\"{frame_count}.jpg\")\n",
    "            cv2.imwrite(frame_filename, frame)\n",
    "\n",
    "            frame_count += 1\n",
    "\n",
    "            for _ in range(step_size-1):\n",
    "                cap.read()\n",
    "\n",
    "        cap.release()"
   ]
  },
  {
   "cell_type": "markdown",
   "metadata": {},
   "source": [
    "### Images to cropped faces\n",
    "Given the path of images folder , a seperate folder will be created for cropped faceso f each candidate performing face detection"
   ]
  },
  {
   "cell_type": "code",
   "execution_count": null,
   "metadata": {},
   "outputs": [],
   "source": [
    "images_directory_path = r'C:\\Users\\Venkatesh Yeturi\\Desktop\\auto_attendance_python\\Data_2\\images_dataset'\n",
    "\n",
    "# save_cropped_images(images_directory_path)"
   ]
  },
  {
   "cell_type": "code",
   "execution_count": 54,
   "metadata": {},
   "outputs": [],
   "source": [
    "def save_cropped_images(dataset_path):\n",
    "    dataset_parent_directory_path = os.path.dirname(dataset_path)\n",
    "    cropped_dataset_path = os.path.join(dataset_parent_directory_path,'cropped_faces_dataset')\n",
    "    \n",
    "    if not os.path.exists(cropped_dataset_path):\n",
    "        os.makedirs(cropped_dataset_path)\n",
    "\n",
    "    for rollnumber in os.listdir(dataset_path):\n",
    "        rollnumber_path = os.path.join(dataset_path,rollnumber)\n",
    "        new_rollnumber_path = os.path.join(cropped_dataset_path,rollnumber)\n",
    "        if not os.path.exists(new_rollnumber_path):\n",
    "            os.makedirs(new_rollnumber_path)\n",
    "        print(rollnumber)\n",
    "        for file_name in os.listdir(rollnumber_path):\n",
    "            each_file_path = os.path.join(rollnumber_path,file_name)\n",
    "            each_image = cv2.imread(each_file_path)\n",
    "            faces = detector.detect_faces(each_image)\n",
    "            if len(faces)==0:\n",
    "                continue\n",
    "            face = faces[0]\n",
    "            x,y,w,h = face['box']\n",
    "            face_image = each_image[y:y+h,x:x+w]\n",
    "            image_saving_path = os.path.join(new_rollnumber_path,file_name)\n",
    "            cv2.imwrite(image_saving_path,face_image)\n"
   ]
  },
  {
   "cell_type": "code",
   "execution_count": 57,
   "metadata": {},
   "outputs": [
    {
     "name": "stdout",
     "output_type": "stream",
     "text": [
      "No.of cropped faces available from each candidate : \n",
      "226102108_uma                  : 92\n",
      "234102301_Amit_Kumar_Das       : 78\n",
      "234102302_Amit_Nagora          : 82\n",
      "234102303_AsutoshSahu          : 26\n",
      "234102304_Dillip               : 97\n",
      "234102305_Durgesh_Yadav        : 90\n",
      "234102307_Muralidhar           : 28\n",
      "234102308_Rajavelu E           : 100\n",
      "234102309_Yash_Natholia        : 76\n",
      "234102310_Adrija               : 100\n",
      "234102311_Bhavesh_Joshi        : 93\n",
      "234102312_anvesh               : 85\n",
      "234102314_jithu_j              : 83\n",
      "234102315_umapathi             : 80\n",
      "234102316_Pritam_Kumar_Singh   : 72\n",
      "234102317_Soumya               : 100\n",
      "234102318_PoojaKumari          : 100\n",
      "236102004_Himashri_Deka        : 100\n",
      "236102005_Manash_Gogoi         : 48\n",
      "236150003_Kartikay             : 92\n",
      "236302003_PRINCE_KUMAR         : 89\n",
      "=======================================================================\n",
      "total                          : 1711\n"
     ]
    }
   ],
   "source": [
    "# no.of cropped faces present for each candidate \n",
    "cropped_faces_folder_path = r\"C:\\Users\\Venkatesh Yeturi\\Desktop\\auto_attendance_python\\Data_2\\cropped_faces_dataset\"\n",
    "print(\"No.of cropped faces available from each candidate : \")\n",
    "total = 0\n",
    "for candidate in os.listdir(cropped_faces_folder_path):\n",
    "    path = os.path.join(cropped_faces_folder_path, candidate)\n",
    "    print(f\"{candidate :<30} : {len(os.listdir(path))}\")\n",
    "    total += len(os.listdir(path))\n",
    "print(\"=======================================================================\")\n",
    "print(f\"{'total' :<30} : {total}\")\n"
   ]
  },
  {
   "cell_type": "markdown",
   "metadata": {},
   "source": [
    "### Faces to Embeddings\n",
    "Given a folder path of cropped faces of each candidate, a dataframe and then CSV file will be created with the embeddings and respective student identities as labels"
   ]
  },
  {
   "cell_type": "code",
   "execution_count": 59,
   "metadata": {},
   "outputs": [],
   "source": [
    "def generate_embeddings_and_labels(data_path):\n",
    "\n",
    "    embeddings = []\n",
    "    labels = []\n",
    "    \n",
    "    for each_roll in os.listdir(data_path):\n",
    "    \n",
    "        roll_path = os.path.join(data_path,each_roll)\n",
    "        person_embeddings, person_labels = get_embeddings_of_person(roll_path)\n",
    "        embeddings.append(person_embeddings)\n",
    "        labels.append(person_labels)\n",
    "        print(\"Done with : \",each_roll)\n",
    "    \n",
    "        \n",
    "    embeddings = np.concatenate(embeddings, axis=0)\n",
    "    labels = np.concatenate(labels, axis=0)\n",
    "\n",
    "    return embeddings, labels\n",
    "\n",
    "    \n",
    "def get_embeddings_of_person(roll_path):\n",
    "    embeddings = []\n",
    "    labels = []\n",
    "    for file in os.listdir(roll_path):\n",
    "        file_path = os.path.join(roll_path,file)\n",
    "        embedding = DeepFace.represent(file_path, model_name='Facenet',enforce_detection=False)\n",
    "        embeddings.append(embedding[0]['embedding'])\n",
    "    roll_number = os.path.basename(roll_path)\n",
    "    labels = [roll_number]*len(os.listdir(roll_path))  \n",
    "    return embeddings,labels\n",
    "    \n"
   ]
  },
  {
   "cell_type": "code",
   "execution_count": 60,
   "metadata": {},
   "outputs": [
    {
     "name": "stdout",
     "output_type": "stream",
     "text": [
      "Done with :  226102108_uma\n",
      "Done with :  234102301_Amit_Kumar_Das\n"
     ]
    }
   ],
   "source": [
    "data_path = r'Data_2/cropped_faces_dataset'\n",
    "embeddings, labels = generate_embeddings_and_labels(data_path)   "
   ]
  },
  {
   "cell_type": "code",
   "execution_count": null,
   "metadata": {},
   "outputs": [],
   "source": [
    "len(embeddings), len(labels)"
   ]
  },
  {
   "cell_type": "code",
   "execution_count": null,
   "metadata": {},
   "outputs": [],
   "source": [
    "data = {}\n",
    "for i in range(128):\n",
    "    col_name = f'e{i+1}'\n",
    "    data[col_name] = [emb[i] for emb in embeddings]\n",
    "\n",
    "data['Label'] = labels\n",
    "embeddings_df = pd.DataFrame(data)\n",
    "embeddings_df.to_csv(\"embeddings_data.csv\", index = False)"
   ]
  },
  {
   "cell_type": "code",
   "execution_count": null,
   "metadata": {},
   "outputs": [],
   "source": [
    "embeddings_df = pd.read_csv(r\"C:\\Users\\Venkatesh Yeturi\\Desktop\\auto_attendance_python\\embeddings_data.csv\")\n",
    "embeddings_df.head()\n"
   ]
  },
  {
   "cell_type": "code",
   "execution_count": null,
   "metadata": {},
   "outputs": [],
   "source": [
    "embeddings_df.shape"
   ]
  },
  {
   "cell_type": "markdown",
   "metadata": {},
   "source": [
    "## Model Training and Testing"
   ]
  },
  {
   "cell_type": "markdown",
   "metadata": {},
   "source": [
    "### Setting up data for training and testing"
   ]
  },
  {
   "cell_type": "code",
   "execution_count": null,
   "metadata": {},
   "outputs": [],
   "source": [
    "from sklearn.model_selection import train_test_split\n",
    "from sklearn.metrics import confusion_matrix, classification_report, accuracy_score"
   ]
  },
  {
   "cell_type": "code",
   "execution_count": null,
   "metadata": {},
   "outputs": [],
   "source": [
    "X = embeddings_df.iloc[:,:-1]\n",
    "y = embeddings_df.iloc[:,-1]\n",
    "X.shape, y.shape"
   ]
  },
  {
   "cell_type": "code",
   "execution_count": null,
   "metadata": {},
   "outputs": [],
   "source": [
    "X_train, X_test, y_train, y_test = train_test_split(X,y,test_size = 0.2, random_state = 42)\n",
    "\n",
    "X_train , y_train, X_test , y_test = np.array(X_train), np.array(y_train), np.array(X_test), np.array(y_test)\n",
    "\n",
    "X_train.shape, y_train.shape, X_test.shape, y_test.shape"
   ]
  },
  {
   "cell_type": "markdown",
   "metadata": {},
   "source": [
    "### Classification models and their Performance"
   ]
  },
  {
   "cell_type": "markdown",
   "metadata": {},
   "source": [
    "#### RandomForest"
   ]
  },
  {
   "cell_type": "code",
   "execution_count": 39,
   "metadata": {},
   "outputs": [],
   "source": [
    "from sklearn.ensemble import RandomForestClassifier"
   ]
  },
  {
   "cell_type": "code",
   "execution_count": 40,
   "metadata": {},
   "outputs": [],
   "source": [
    "pre_trained_model_path = 'pre_trained_models/RandomForest_model.joblib'\n",
    "if not os.path.exists(pre_trained_model_path):\n",
    "    model = RandomForestClassifier(n_estimators=100, random_state = 42)\n",
    "    model.fit(X_train, y_train)\n",
    "    joblib.dump(model,'RandomForest_model.joblib')\n",
    "\n",
    "else:\n",
    "    model = joblib.load(pre_trained_model_path)"
   ]
  },
  {
   "cell_type": "code",
   "execution_count": 41,
   "metadata": {},
   "outputs": [
    {
     "name": "stdout",
     "output_type": "stream",
     "text": [
      "Accuracy with Random Forest Classifier is :  0.9504373177842566\n",
      "==================================================================================================================\n",
      "Classification Report with Random Forest Classifier is : \n",
      "\n",
      "                              precision    recall  f1-score   support\n",
      "\n",
      "               226102108_uma       1.00      0.94      0.97        18\n",
      "    234102301_Amit_Kumar_Das       1.00      1.00      1.00        13\n",
      "       234102302_Amit_Nagora       0.86      0.95      0.90        19\n",
      "       234102303_AsutoshSahu       1.00      0.75      0.86         8\n",
      "            234102304_Dillip       0.88      1.00      0.94        22\n",
      "     234102305_Durgesh_Yadav       1.00      1.00      1.00        17\n",
      "        234102307_Muralidhar       1.00      0.62      0.77         8\n",
      "        234102308_Rajavelu E       0.96      1.00      0.98        22\n",
      "     234102309_Yash_Natholia       0.92      0.92      0.92        13\n",
      "            234102310_Adrija       1.00      1.00      1.00        22\n",
      "     234102311_Bhavesh_Joshi       1.00      1.00      1.00        15\n",
      "            234102312_anvesh       1.00      0.95      0.97        20\n",
      "           234102314_jithu_j       1.00      1.00      1.00        16\n",
      "          234102315_umapathi       0.75      0.75      0.75        16\n",
      "234102316_Pritam_Kumar_Singh       1.00      0.93      0.97        15\n",
      "            234102317_Soumya       1.00      1.00      1.00        19\n",
      "       234102318_PoojaKumari       1.00      1.00      1.00        23\n",
      "     236102004_Himashri_Deka       1.00      1.00      1.00        16\n",
      "      236102005_Manash_Gogoi       0.50      0.80      0.62         5\n",
      "          236150003_Kartikay       0.93      1.00      0.96        13\n",
      "      236302003_PRINCE_KUMAR       1.00      0.91      0.95        23\n",
      "\n",
      "                    accuracy                           0.95       343\n",
      "                   macro avg       0.94      0.93      0.93       343\n",
      "                weighted avg       0.96      0.95      0.95       343\n",
      "\n"
     ]
    }
   ],
   "source": [
    "y_pred = model.predict(X_test)\n",
    "accuracy_random_forest = accuracy_score(y_test, y_pred)\n",
    "print(\"Accuracy with Random Forest Classifier is : \", accuracy_random_forest)\n",
    "print(\"==================================================================================================================\")\n",
    "report = classification_report(y_test, y_pred)\n",
    "print(\"Classification Report with Random Forest Classifier is : \\n\")\n",
    "print(report)"
   ]
  },
  {
   "cell_type": "markdown",
   "metadata": {},
   "source": [
    "#### Logistic Regression"
   ]
  },
  {
   "cell_type": "code",
   "execution_count": 42,
   "metadata": {},
   "outputs": [],
   "source": [
    "from sklearn.linear_model import LogisticRegression"
   ]
  },
  {
   "cell_type": "code",
   "execution_count": 43,
   "metadata": {},
   "outputs": [],
   "source": [
    "pre_trained_model_path = 'pre_trained_models\\LogisticRegression_model'\n",
    "\n",
    "if not os.path.exists(pre_trained_model_path):\n",
    "    model = LogisticRegression(multi_class='multinomial',solver='lbfgs',random_state=42)\n",
    "    model.fit(X_train, y_train)\n",
    "    joblib.dump(model,'LogisticRegression_model')\n",
    "\n",
    "else:\n",
    "    model = joblib.load(pre_trained_model_path)"
   ]
  },
  {
   "cell_type": "code",
   "execution_count": 44,
   "metadata": {},
   "outputs": [
    {
     "name": "stdout",
     "output_type": "stream",
     "text": [
      "Accuracy with Logistic Regression Classifier is :  0.9475218658892128\n",
      "==================================================================================================================\n",
      "Classification Report with Logistic Regression is : \n",
      "\n",
      "                              precision    recall  f1-score   support\n",
      "\n",
      "               226102108_uma       1.00      0.94      0.97        18\n",
      "    234102301_Amit_Kumar_Das       1.00      0.92      0.96        13\n",
      "       234102302_Amit_Nagora       1.00      0.95      0.97        19\n",
      "       234102303_AsutoshSahu       1.00      0.88      0.93         8\n",
      "            234102304_Dillip       0.88      1.00      0.94        22\n",
      "     234102305_Durgesh_Yadav       1.00      1.00      1.00        17\n",
      "        234102307_Muralidhar       0.80      0.50      0.62         8\n",
      "        234102308_Rajavelu E       1.00      1.00      1.00        22\n",
      "     234102309_Yash_Natholia       0.80      0.92      0.86        13\n",
      "            234102310_Adrija       1.00      1.00      1.00        22\n",
      "     234102311_Bhavesh_Joshi       1.00      1.00      1.00        15\n",
      "            234102312_anvesh       1.00      0.95      0.97        20\n",
      "           234102314_jithu_j       1.00      1.00      1.00        16\n",
      "          234102315_umapathi       0.71      0.75      0.73        16\n",
      "234102316_Pritam_Kumar_Singh       1.00      0.93      0.97        15\n",
      "            234102317_Soumya       1.00      1.00      1.00        19\n",
      "       234102318_PoojaKumari       1.00      1.00      1.00        23\n",
      "     236102004_Himashri_Deka       1.00      1.00      1.00        16\n",
      "      236102005_Manash_Gogoi       0.44      0.80      0.57         5\n",
      "          236150003_Kartikay       0.93      1.00      0.96        13\n",
      "      236302003_PRINCE_KUMAR       1.00      0.91      0.95        23\n",
      "\n",
      "                    accuracy                           0.95       343\n",
      "                   macro avg       0.93      0.93      0.92       343\n",
      "                weighted avg       0.96      0.95      0.95       343\n",
      "\n"
     ]
    }
   ],
   "source": [
    "y_pred = model.predict(X_test)\n",
    "accuracy_logistic_regression = accuracy_score(y_test, y_pred)\n",
    "print(\"Accuracy with Logistic Regression Classifier is : \", accuracy_logistic_regression)\n",
    "print(\"==================================================================================================================\")\n",
    "report = classification_report(y_test, y_pred)\n",
    "print(\"Classification Report with Logistic Regression is : \\n\")\n",
    "print(report)"
   ]
  },
  {
   "cell_type": "markdown",
   "metadata": {},
   "source": [
    "#### K Nearest Neighbours"
   ]
  },
  {
   "cell_type": "code",
   "execution_count": 45,
   "metadata": {},
   "outputs": [],
   "source": [
    "from sklearn.neighbors import KNeighborsClassifier"
   ]
  },
  {
   "cell_type": "code",
   "execution_count": 46,
   "metadata": {},
   "outputs": [],
   "source": [
    "pre_trained_model_path = 'pre_trained_models\\KNN_model.joblib'\n",
    "\n",
    "if not os.path.exists(pre_trained_model_path):\n",
    "    model = KNeighborsClassifier(n_neighbors = 5)\n",
    "    model.fit(X_train, y_train)\n",
    "    joblib.dump(model,'KNN_model.joblib')\n",
    "\n",
    "else:\n",
    "    model = joblib.load(pre_trained_model_path)"
   ]
  },
  {
   "cell_type": "code",
   "execution_count": 47,
   "metadata": {},
   "outputs": [
    {
     "name": "stdout",
     "output_type": "stream",
     "text": [
      "Accuracy with KNN classifier is :  0.956268221574344\n",
      "==================================================================================================================\n",
      "Classification Report with KNN is : \n",
      "\n",
      "                              precision    recall  f1-score   support\n",
      "\n",
      "               226102108_uma       0.90      1.00      0.95        18\n",
      "    234102301_Amit_Kumar_Das       1.00      1.00      1.00        13\n",
      "       234102302_Amit_Nagora       0.90      1.00      0.95        19\n",
      "       234102303_AsutoshSahu       1.00      0.75      0.86         8\n",
      "            234102304_Dillip       0.85      1.00      0.92        22\n",
      "     234102305_Durgesh_Yadav       0.85      1.00      0.92        17\n",
      "        234102307_Muralidhar       1.00      0.75      0.86         8\n",
      "        234102308_Rajavelu E       1.00      0.95      0.98        22\n",
      "     234102309_Yash_Natholia       1.00      0.92      0.96        13\n",
      "            234102310_Adrija       1.00      1.00      1.00        22\n",
      "     234102311_Bhavesh_Joshi       1.00      1.00      1.00        15\n",
      "            234102312_anvesh       1.00      0.95      0.97        20\n",
      "           234102314_jithu_j       1.00      1.00      1.00        16\n",
      "          234102315_umapathi       0.92      0.75      0.83        16\n",
      "234102316_Pritam_Kumar_Singh       1.00      0.93      0.97        15\n",
      "            234102317_Soumya       1.00      1.00      1.00        19\n",
      "       234102318_PoojaKumari       1.00      1.00      1.00        23\n",
      "     236102004_Himashri_Deka       1.00      1.00      1.00        16\n",
      "      236102005_Manash_Gogoi       0.80      0.80      0.80         5\n",
      "          236150003_Kartikay       0.87      1.00      0.93        13\n",
      "      236302003_PRINCE_KUMAR       1.00      0.91      0.95        23\n",
      "\n",
      "                    accuracy                           0.96       343\n",
      "                   macro avg       0.96      0.94      0.94       343\n",
      "                weighted avg       0.96      0.96      0.96       343\n",
      "\n"
     ]
    }
   ],
   "source": [
    "y_pred = model.predict(X_test)\n",
    "accuracy_KNN = accuracy_score(y_test, y_pred)\n",
    "print(\"Accuracy with KNN classifier is : \", accuracy_KNN)\n",
    "print(\"==================================================================================================================\")\n",
    "report = classification_report(y_test, y_pred)\n",
    "print(\"Classification Report with KNN is : \\n\")\n",
    "print(report)"
   ]
  },
  {
   "cell_type": "code",
   "execution_count": null,
   "metadata": {},
   "outputs": [],
   "source": []
  },
  {
   "cell_type": "markdown",
   "metadata": {},
   "source": [
    "### Comparision of performance of models"
   ]
  },
  {
   "cell_type": "code",
   "execution_count": null,
   "metadata": {},
   "outputs": [],
   "source": []
  },
  {
   "cell_type": "markdown",
   "metadata": {},
   "source": [
    "## Prediction functionality for group of faces"
   ]
  },
  {
   "cell_type": "markdown",
   "metadata": {},
   "source": [
    "### Give the image and get the roll numbers"
   ]
  },
  {
   "cell_type": "code",
   "execution_count": 67,
   "metadata": {},
   "outputs": [],
   "source": [
    "def get_predicted_roll_numbers(model, test_image_path):\n",
    "    test_image = cv2.imread(test_image_path)\n",
    "    faces = detector.detect_faces(test_image)\n",
    "    parent_folder_path = os.path.dirname(test_image_path)\n",
    "    str = os.path.basename(test_image_path) + \"_faces\"\n",
    "    new_faces_folder = os.path.join(parent_folder_path,str)\n",
    "    if not os.path.exists(new_faces_folder):\n",
    "        os.makedirs(new_faces_folder)\n",
    "    roll_numbers = []\n",
    "    for i,face in enumerate(faces):\n",
    "        x,y,w,h = face['box']\n",
    "        face_image = test_image[y:y+h,x:x+w]\n",
    "        image_saving_path = os.path.join(new_faces_folder,f'face_{i+1}.jpg')\n",
    "        cv2.imwrite(image_saving_path,face_image)\n",
    "        face_embedding = DeepFace.represent(image_saving_path,model_name='Facenet',enforce_detection=False)[0]['embedding']\n",
    "        roll_number = model.predict([face_embedding])\n",
    "        probabilities = model.predict_proba([face_embedding])\n",
    "        mean_prob = probabilities[0].mean()\n",
    "        max_prob = probabilities[0].max()\n",
    "        if(max_prob<=3*mean_prob):\n",
    "            continue\n",
    "        roll_numbers.append(roll_number)\n",
    "    return roll_numbers"
   ]
  },
  {
   "cell_type": "code",
   "execution_count": 68,
   "metadata": {},
   "outputs": [
    {
     "name": "stdout",
     "output_type": "stream",
     "text": [
      "1/1 [==============================] - 0s 149ms/step\n",
      "1/1 [==============================] - 0s 120ms/step\n",
      "1/1 [==============================] - 0s 72ms/step\n",
      "1/1 [==============================] - 0s 48ms/step\n",
      "1/1 [==============================] - 0s 41ms/step\n",
      "1/1 [==============================] - 0s 40ms/step\n",
      "1/1 [==============================] - 0s 40ms/step\n",
      "1/1 [==============================] - 0s 40ms/step\n",
      "1/1 [==============================] - 0s 48ms/step\n",
      "1/1 [==============================] - 0s 40ms/step\n",
      "1/1 [==============================] - 0s 40ms/step\n",
      "1/1 [==============================] - 0s 40ms/step\n",
      "8/8 [==============================] - 0s 11ms/step\n",
      "2/2 [==============================] - 0s 26ms/step\n",
      "['234102317_Soumya']\n",
      "['234102316_Pritam_Kumar_Singh']\n",
      "['234102318_PoojaKumari']\n",
      "['236102005_Manash_Gogoi']\n",
      "['234102301_Amit_Kumar_Das']\n",
      "['234102305_Durgesh_Yadav']\n",
      "['234102304_Dillip']\n",
      "['234102310_Adrija']\n",
      "['234102314_jithu_j']\n",
      "['234102312_anvesh']\n",
      "['234102311_Bhavesh_Joshi']\n",
      "['234102307_Muralidhar']\n",
      "['234102315_umapathi']\n",
      "['234102315_umapathi']\n",
      "['234102309_Yash_Natholia']\n",
      "['234102302_Amit_Nagora']\n"
     ]
    }
   ],
   "source": [
    "test_image_1 = r\"C:\\Users\\Venkatesh Yeturi\\Desktop\\auto_attendance_python\\Data_2\\group_images_for_testing\\test_image_1.jpg\"\n",
    "\n",
    "model = joblib.load(r'C:\\Users\\Venkatesh Yeturi\\Desktop\\auto_attendance_python\\pre_trained_models\\RandomForest_model.joblib')\n",
    "\n",
    "for roll in get_predicted_roll_numbers(model, test_image_1):\n",
    "    print(roll)"
   ]
  },
  {
   "cell_type": "code",
   "execution_count": 1,
   "metadata": {},
   "outputs": [
    {
     "name": "stdout",
     "output_type": "stream",
     "text": [
      "['226102108_uma', '234102301_Amit_Kumar_Das', '234102302_Amit_Nagora', '234102303_AsutoshSahu', '234102304_Dillip', '234102305_Durgesh_Yadav', '234102307_Muralidhar', '234102308_Rajavelu E', '234102309_Yash_Natholia', '234102310_Adrija', '234102311_Bhavesh_Joshi', '234102312_anvesh', '234102314_jithu_j', '234102315_umapathi', '234102316_Pritam_Kumar_Singh', '234102317_Soumya', '234102318_PoojaKumari', '236102004_Himashri_Deka', '236102005_Manash_Gogoi', '236150003_Kartikay', '236302003_PRINCE_KUMAR']\n"
     ]
    }
   ],
   "source": [
    "import os\n",
    "list_of_names = []\n",
    "for file in os.listdir('Data_2\\images_dataset'):\n",
    "    list_of_names.append(file)\n",
    "print(list_of_names)"
   ]
  },
  {
   "cell_type": "code",
   "execution_count": 6,
   "metadata": {},
   "outputs": [],
   "source": [
    "roll_numbers = [num[:9] for num in list_of_names]\n",
    "names = [name[10:] for name in list_of_names]"
   ]
  },
  {
   "cell_type": "code",
   "execution_count": 7,
   "metadata": {},
   "outputs": [
    {
     "data": {
      "text/plain": [
       "['226102108',\n",
       " '234102301',\n",
       " '234102302',\n",
       " '234102303',\n",
       " '234102304',\n",
       " '234102305',\n",
       " '234102307',\n",
       " '234102308',\n",
       " '234102309',\n",
       " '234102310',\n",
       " '234102311',\n",
       " '234102312',\n",
       " '234102314',\n",
       " '234102315',\n",
       " '234102316',\n",
       " '234102317',\n",
       " '234102318',\n",
       " '236102004',\n",
       " '236102005',\n",
       " '236150003',\n",
       " '236302003']"
      ]
     },
     "execution_count": 7,
     "metadata": {},
     "output_type": "execute_result"
    }
   ],
   "source": [
    "roll_numbers"
   ]
  },
  {
   "cell_type": "code",
   "execution_count": 8,
   "metadata": {},
   "outputs": [
    {
     "data": {
      "text/plain": [
       "['uma',\n",
       " 'Amit_Kumar_Das',\n",
       " 'Amit_Nagora',\n",
       " 'AsutoshSahu',\n",
       " 'Dillip',\n",
       " 'Durgesh_Yadav',\n",
       " 'Muralidhar',\n",
       " 'Rajavelu E',\n",
       " 'Yash_Natholia',\n",
       " 'Adrija',\n",
       " 'Bhavesh_Joshi',\n",
       " 'anvesh',\n",
       " 'jithu_j',\n",
       " 'umapathi',\n",
       " 'Pritam_Kumar_Singh',\n",
       " 'Soumya',\n",
       " 'PoojaKumari',\n",
       " 'Himashri_Deka',\n",
       " 'Manash_Gogoi',\n",
       " 'Kartikay',\n",
       " 'PRINCE_KUMAR']"
      ]
     },
     "execution_count": 8,
     "metadata": {},
     "output_type": "execute_result"
    }
   ],
   "source": [
    "names"
   ]
  },
  {
   "cell_type": "code",
   "execution_count": 9,
   "metadata": {},
   "outputs": [
    {
     "data": {
      "text/plain": [
       "[('226102108', 'uma'),\n",
       " ('234102301', 'Amit_Kumar_Das'),\n",
       " ('234102302', 'Amit_Nagora'),\n",
       " ('234102303', 'AsutoshSahu'),\n",
       " ('234102304', 'Dillip'),\n",
       " ('234102305', 'Durgesh_Yadav'),\n",
       " ('234102307', 'Muralidhar'),\n",
       " ('234102308', 'Rajavelu E'),\n",
       " ('234102309', 'Yash_Natholia'),\n",
       " ('234102310', 'Adrija'),\n",
       " ('234102311', 'Bhavesh_Joshi'),\n",
       " ('234102312', 'anvesh'),\n",
       " ('234102314', 'jithu_j'),\n",
       " ('234102315', 'umapathi'),\n",
       " ('234102316', 'Pritam_Kumar_Singh'),\n",
       " ('234102317', 'Soumya'),\n",
       " ('234102318', 'PoojaKumari'),\n",
       " ('236102004', 'Himashri_Deka'),\n",
       " ('236102005', 'Manash_Gogoi'),\n",
       " ('236150003', 'Kartikay'),\n",
       " ('236302003', 'PRINCE_KUMAR')]"
      ]
     },
     "execution_count": 9,
     "metadata": {},
     "output_type": "execute_result"
    }
   ],
   "source": [
    "complete_names = [(roll_numbers[i], names[i]) for i in range(len(roll_numbers))]\n",
    "complete_names"
   ]
  },
  {
   "cell_type": "code",
   "execution_count": null,
   "metadata": {},
   "outputs": [],
   "source": []
  }
 ],
 "metadata": {
  "kernelspec": {
   "display_name": "Python 3",
   "language": "python",
   "name": "python3"
  },
  "language_info": {
   "codemirror_mode": {
    "name": "ipython",
    "version": 3
   },
   "file_extension": ".py",
   "mimetype": "text/x-python",
   "name": "python",
   "nbconvert_exporter": "python",
   "pygments_lexer": "ipython3",
   "version": "3.11.3"
  },
  "orig_nbformat": 4
 },
 "nbformat": 4,
 "nbformat_minor": 2
}
